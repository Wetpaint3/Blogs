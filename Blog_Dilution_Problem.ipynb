{
 "cells": [
  {
   "cell_type": "markdown",
   "metadata": {},
   "source": [
    "### Dilution Problem in Python"
   ]
  },
  {
   "cell_type": "markdown",
   "metadata": {},
   "source": [
    "A tank initially holds 100 gal of a brine solution containing 1 Ib of salt. At t = 0 another brine solution\n",
    "containing 1 Ib of salt per gallon is poured into the tank at the rate of 3 gal/min, while the well-stirred\n",
    "mixture leaves the tank at the same rate. Find (a) the amount of salt in the tank at any time t and (b) the\n",
    "time at which the mixture in the tank contains 2 Ib of salt."
   ]
  },
  {
   "cell_type": "code",
   "execution_count": 103,
   "metadata": {},
   "outputs": [],
   "source": [
    "%matplotlib inline\n",
    "import numpy as np\n",
    "import matplotlib.pyplot as plt\n",
    "from scipy.integrate import odeint"
   ]
  },
  {
   "cell_type": "code",
   "execution_count": 118,
   "metadata": {},
   "outputs": [],
   "source": [
    "V0 = 100 # initial brine solution containing 1 lb of salt in the tank\n",
    "a = 1 # amount of salt that brine solution contains initially at time = 0\n",
    "b = 1 # amount of salt that another brine solution contains\n",
    "e = 3 # rate at which another brine solution is poured into the tank\n",
    "f = 3 # rate at which well-stirred mixture leaves the tank"
   ]
  },
  {
   "cell_type": "code",
   "execution_count": 153,
   "metadata": {},
   "outputs": [],
   "source": [
    "def model(y,t):\n",
    "    dydt = b*e-(f*y)/(V0+e*t-f*t)\n",
    "    return dydt\n",
    "\n",
    "# integrate the equations\n",
    "t = np.linspace(0,100,100) # times to report solution\n",
    "y = odeint(model,1,t) # integrate"
   ]
  },
  {
   "cell_type": "code",
   "execution_count": 154,
   "metadata": {},
   "outputs": [
    {
     "data": {
      "image/png": "[encoded data removed]",
      "text/plain": [
       "<Figure size 432x288 with 1 Axes>"
      ]
     },
     "metadata": {
      "needs_background": "light"
     },
     "output_type": "display_data"
    }
   ],
   "source": [
    "# plot results\n",
    "plt.figure()\n",
    "plt.plot(model(y,t));\n",
    "plt.title('Increase of Salt each time (Derivative)')\n",
    "plt.xlabel('Time (min)')\n",
    "plt.ylabel('Amount of salt (lb)')\n",
    "plt.show()"
   ]
  },
  {
   "cell_type": "code",
   "execution_count": 155,
   "metadata": {},
   "outputs": [
    {
     "data": {
      "image/png": "[encoded data removed]",
      "text/plain": [
       "<Figure size 432x288 with 1 Axes>"
      ]
     },
     "metadata": {
      "needs_background": "light"
     },
     "output_type": "display_data"
    }
   ],
   "source": [
    "# plot results\n",
    "plt.figure()\n",
    "plt.plot(t,y,'b-')\n",
    "plt.title('Amount of Salt in the Tank')\n",
    "plt.xlabel('Time (min)')\n",
    "plt.ylabel('Amount of salt (lb)')\n",
    "plt.savefig('Amount of Salt in the Tank')\n",
    "plt.show()"
   ]
  },
  {
   "cell_type": "code",
   "execution_count": 156,
   "metadata": {},
   "outputs": [
    {
     "data": {
      "text/plain": [
       "array([[ 1.        ],\n",
       "       [ 3.95500116],\n",
       "       [ 6.82179995],\n",
       "       [ 9.60302911],\n",
       "       [12.30124277],\n",
       "       [14.91891878],\n",
       "       [17.45846109],\n",
       "       [19.92220191],\n",
       "       [22.31240378],\n",
       "       [24.63126172],\n",
       "       [26.88090524],\n",
       "       [29.0634003 ],\n",
       "       [31.18075114],\n",
       "       [33.23490224],\n",
       "       [35.22774002],\n",
       "       [37.16109458],\n",
       "       [39.03674143],\n",
       "       [40.85640303],\n",
       "       [42.62175047],\n",
       "       [44.33440494],\n",
       "       [45.99593925],\n",
       "       [47.60787926],\n",
       "       [49.1717053 ],\n",
       "       [50.68885351],\n",
       "       [52.16071714],\n",
       "       [53.5886478 ],\n",
       "       [54.97395687],\n",
       "       [56.31791652],\n",
       "       [57.621761  ],\n",
       "       [58.8866877 ],\n",
       "       [60.11385823],\n",
       "       [61.30439954],\n",
       "       [62.459405  ],\n",
       "       [63.57993531],\n",
       "       [64.66701947],\n",
       "       [65.7216558 ],\n",
       "       [66.74481283],\n",
       "       [67.73743016],\n",
       "       [68.70041935],\n",
       "       [69.63466476],\n",
       "       [70.54102436],\n",
       "       [71.42033048],\n",
       "       [72.27339064],\n",
       "       [73.10098823],\n",
       "       [73.90388329],\n",
       "       [74.68281313],\n",
       "       [75.43849308],\n",
       "       [76.17161713],\n",
       "       [76.88285853],\n",
       "       [77.57287044],\n",
       "       [78.24228653],\n",
       "       [78.89172155],\n",
       "       [79.52177192],\n",
       "       [80.13301621],\n",
       "       [80.72601576],\n",
       "       [81.30131515],\n",
       "       [81.85944274],\n",
       "       [82.40091108],\n",
       "       [82.92621741],\n",
       "       [83.43584412],\n",
       "       [83.93025923],\n",
       "       [84.40991678],\n",
       "       [84.87525729],\n",
       "       [85.32670812],\n",
       "       [85.76468381],\n",
       "       [86.18958657],\n",
       "       [86.60180661],\n",
       "       [87.0017225 ],\n",
       "       [87.38970153],\n",
       "       [87.76609998],\n",
       "       [88.13126349],\n",
       "       [88.4855274 ],\n",
       "       [88.82921706],\n",
       "       [89.16264811],\n",
       "       [89.48612677],\n",
       "       [89.79995007],\n",
       "       [90.10440621],\n",
       "       [90.39977478],\n",
       "       [90.68632705],\n",
       "       [90.96432617],\n",
       "       [91.23402745],\n",
       "       [91.49567854],\n",
       "       [91.74951974],\n",
       "       [91.99578414],\n",
       "       [92.23469793],\n",
       "       [92.46648052],\n",
       "       [92.69134475],\n",
       "       [92.90949711],\n",
       "       [93.12113794],\n",
       "       [93.32646161],\n",
       "       [93.52565668],\n",
       "       [93.7189061 ],\n",
       "       [93.9063873 ],\n",
       "       [94.08827247],\n",
       "       [94.26472863],\n",
       "       [94.43591785],\n",
       "       [94.60199733],\n",
       "       [94.76311959],\n",
       "       [94.91943257],\n",
       "       [95.07107983]])"
      ]
     },
     "execution_count": 156,
     "metadata": {},
     "output_type": "execute_result"
    }
   ],
   "source": [
    "y"
   ]
  },
  {
   "cell_type": "code",
   "execution_count": null,
   "metadata": {},
   "outputs": [],
   "source": []
  }
 ],
 "metadata": {
  "kernelspec": {
   "display_name": "Python 3",
   "language": "python",
   "name": "python3"
  },
  "language_info": {
   "codemirror_mode": {
    "name": "ipython",
    "version": 3
   },
   "file_extension": ".py",
   "mimetype": "text/x-python",
   "name": "python",
   "nbconvert_exporter": "python",
   "pygments_lexer": "ipython3",
   "version": "3.7.6"
  }
 },
 "nbformat": 4,
 "nbformat_minor": 4
}
