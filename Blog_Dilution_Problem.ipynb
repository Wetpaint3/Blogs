{
 "cells": [
  {
   "cell_type": "markdown",
   "metadata": {},
   "source": [
    "### Dilution Problem in Python"
   ]
  },
  {
   "cell_type": "markdown",
   "metadata": {},
   "source": [
    "A tank initially holds 100 gal of a brine solution containing 1 Ib of salt. At t = 0 another brine solution\n",
    "containing 1 Ib of salt per gallon is poured into the tank at the rate of 3 gal/min, while the well-stirred\n",
    "mixture leaves the tank at the same rate. Find (a) the amount of salt in the tank at any time t and (b) the\n",
    "time at which the mixture in the tank contains 2 Ib of salt."
   ]
  },
  {
   "cell_type": "code",
   "execution_count": 103,
   "metadata": {},
   "outputs": [],
   "source": [
    "%matplotlib inline\n",
    "import numpy as np\n",
    "import matplotlib.pyplot as plt\n",
    "from scipy.integrate import odeint"
   ]
  },
  {
   "cell_type": "code",
   "execution_count": 118,
   "metadata": {},
   "outputs": [],
   "source": [
    "V0 = 100 # initial brine solution containing 1 lb of salt in the tank\n",
    "a = 1 # amount of salt that brine solution contains initially at time = 0\n",
    "b = 1 # amount of salt that another brine solution contains\n",
    "e = 3 # rate at which another brine solution is poured into the tank\n",
    "f = 3 # rate at which well-stirred mixture leaves the tank"
   ]
  },
  {
   "cell_type": "code",
   "execution_count": 149,
   "metadata": {},
   "outputs": [],
   "source": [
    "def model(y,t):\n",
    "    dydt = b*e-(f*y)/(V0+e*t-f*t)\n",
    "    return dydt\n",
    "\n",
    "# integrate the equations\n",
    "t = np.linspace(0,50) # times to report solution\n",
    "y = odeint(model,1,t) # integrate"
   ]
  },
  {
   "cell_type": "code",
   "execution_count": 150,
   "metadata": {},
   "outputs": [
    {
     "data": {
      "image/png": "[encoded data removed]",
      "text/plain": [
       "<Figure size 432x288 with 1 Axes>"
      ]
     },
     "metadata": {
      "needs_background": "light"
     },
     "output_type": "display_data"
    }
   ],
   "source": [
    "# plot results\n",
    "plt.figure()\n",
    "plt.plot(model(y,t));\n",
    "plt.title('Increase of Salt each time (Derivative)')\n",
    "plt.xlabel('Time (min)')\n",
    "plt.ylabel('Amount of salt (lb)')\n",
    "plt.show()"
   ]
  },
  {
   "cell_type": "code",
   "execution_count": 151,
   "metadata": {},
   "outputs": [
    {
     "data": {
      "image/png": "[encoded data removed]",
      "text/plain": [
       "<Figure size 432x288 with 1 Axes>"
      ]
     },
     "metadata": {
      "needs_background": "light"
     },
     "output_type": "display_data"
    }
   ],
   "source": [
    "# plot results\n",
    "plt.figure()\n",
    "plt.plot(t,y,'b-')\n",
    "plt.title('Amount of Salt in the Tank')\n",
    "plt.xlabel('Time (min)')\n",
    "plt.ylabel('Amount of salt (lb)')\n",
    "plt.savefig('Amount of Salt in the Tank')\n",
    "plt.show()"
   ]
  },
  {
   "cell_type": "code",
   "execution_count": 152,
   "metadata": {},
   "outputs": [
    {
     "data": {
      "text/plain": [
       "array([[ 1.        ],\n",
       "       [ 3.98469509],\n",
       "       [ 6.87940626],\n",
       "       [ 9.68684642],\n",
       "       [12.40964665],\n",
       "       [15.05035871],\n",
       "       [17.61145741],\n",
       "       [20.09534302],\n",
       "       [22.50434339],\n",
       "       [24.84071616],\n",
       "       [27.10665096],\n",
       "       [29.30427138],\n",
       "       [31.43563695],\n",
       "       [33.5027452 ],\n",
       "       [35.50753336],\n",
       "       [37.4518803 ],\n",
       "       [39.33760822],\n",
       "       [41.1664844 ],\n",
       "       [42.94022282],\n",
       "       [44.6604858 ],\n",
       "       [46.32888555],\n",
       "       [47.94698566],\n",
       "       [49.51630259],\n",
       "       [51.03830711],\n",
       "       [52.51442557],\n",
       "       [53.94604132],\n",
       "       [55.33449608],\n",
       "       [56.68109109],\n",
       "       [57.98708837],\n",
       "       [59.25371189],\n",
       "       [60.48214868],\n",
       "       [61.67355   ],\n",
       "       [62.82903247],\n",
       "       [63.94967897],\n",
       "       [65.03653972],\n",
       "       [66.09063332],\n",
       "       [67.11294765],\n",
       "       [68.10444081],\n",
       "       [69.06604199],\n",
       "       [69.99865241],\n",
       "       [70.90314608],\n",
       "       [71.78037069],\n",
       "       [72.63114834],\n",
       "       [73.45627639],\n",
       "       [74.25652811],\n",
       "       [75.03265349],\n",
       "       [75.78537991],\n",
       "       [76.51541281],\n",
       "       [77.22343636],\n",
       "       [77.9101141 ]])"
      ]
     },
     "execution_count": 152,
     "metadata": {},
     "output_type": "execute_result"
    }
   ],
   "source": [
    "y"
   ]
  },
  {
   "cell_type": "code",
   "execution_count": null,
   "metadata": {},
   "outputs": [],
   "source": []
  }
 ],
 "metadata": {
  "kernelspec": {
   "display_name": "Python 3",
   "language": "python",
   "name": "python3"
  },
  "language_info": {
   "codemirror_mode": {
    "name": "ipython",
    "version": 3
   },
   "file_extension": ".py",
   "mimetype": "text/x-python",
   "name": "python",
   "nbconvert_exporter": "python",
   "pygments_lexer": "ipython3",
   "version": "3.7.6"
  }
 },
 "nbformat": 4,
 "nbformat_minor": 4
}
